{
 "cells": [
  {
   "cell_type": "raw",
   "id": "910950bd-e3b6-427f-82f7-29b489f1d868",
   "metadata": {},
   "source": [
    "import sys\n",
    "!conda install -yes --prefix {sys.prefix} -c conda-forge openmm\n",
    "!conda install -yes --prefix {sys.prefix} -c conda-forge pdbfixer\n",
    "!conda install -yes --prefix {sys.prefix} -c conda-forge openmm-setup"
   ]
  },
  {
   "cell_type": "code",
   "execution_count": 4,
   "id": "ab16c724-e9fd-4e41-96ee-ead35192a0f3",
   "metadata": {},
   "outputs": [],
   "source": [
    "from sys import stdout\n",
    "import pandas as pd\n",
    "import numpy as np\n",
    "import os\n",
    "\n",
    "from openmm.app import *\n",
    "from openmm import *\n",
    "from openmm.unit import *\n",
    "from pdbfixer.pdbfixer import PDBFixer, proteinResidues"
   ]
  },
  {
   "cell_type": "code",
   "execution_count": 2,
   "id": "85893c25-bd54-4416-a556-6259baabdb51",
   "metadata": {},
   "outputs": [],
   "source": [
    "pdb = '1QLQ' #BPTI\n",
    "T_crys = 292  #Crystallization conditions are on REMARK 280 lines\n",
    "pH = 7.5"
   ]
  },
  {
   "cell_type": "code",
   "execution_count": 3,
   "id": "72e95791-d239-4cb1-9fb0-e10b4e9fb8fc",
   "metadata": {},
   "outputs": [
    {
     "name": "stdout",
     "output_type": "stream",
     "text": [
      "--2023-03-06 06:39:55--  https://files.rcsb.org/view/1QLQ.pdb\n",
      "Resolving files.rcsb.org (files.rcsb.org)... 132.249.210.234\n",
      "Connecting to files.rcsb.org (files.rcsb.org)|132.249.210.234|:443... connected.\n",
      "HTTP request sent, awaiting response... 200 OK\n",
      "Length: unspecified [text/plain]\n",
      "Saving to: ‘1QLQ.pdb.2’\n",
      "\n",
      "1QLQ.pdb.2              [ <=>                ] 132.89K  --.-KB/s    in 0.1s    \n",
      "\n",
      "2023-03-06 06:39:55 (1.22 MB/s) - ‘1QLQ.pdb.2’ saved [136080]\n",
      "\n"
     ]
    }
   ],
   "source": [
    "!wget https://files.rcsb.org/view/1QLQ.pdb"
   ]
  },
  {
   "cell_type": "markdown",
   "id": "10a4a6d5-9ccb-49c8-832b-3ec3cbd6217f",
   "metadata": {},
   "source": [
    "- [Prep pdb and run a basic simulation](#prep)\n",
    "- [Custom forces](#smp)"
   ]
  },
  {
   "cell_type": "markdown",
   "id": "08ed9969-58dd-4a4f-a853-4fbeafe964f5",
   "metadata": {},
   "source": [
    "<a id = 'prep'></a>\n",
    "### Preparing for MD and Running a Basic Simulation"
   ]
  },
  {
   "cell_type": "markdown",
   "id": "f0c67496-285d-404b-bceb-2667e1e3eca1",
   "metadata": {},
   "source": [
    "Example function to prep a pdb file. You can find further examples in the source code for openmm-setup: https://github.com/openmm/openmm-setup/blob/master/setup.py"
   ]
  },
  {
   "cell_type": "raw",
   "id": "b4513249-631a-4072-808a-978cdaa8d146",
   "metadata": {},
   "source": [
    "fixer = PDBFixer('./1QLQ.pdb')\n",
    "\n",
    "#Fix residues, adjust protonation\n",
    "fixer.findMissingResidues()\n",
    "fixer.findNonstandardResidues()\n",
    "fixer.replaceNonstandardResidues()\n",
    "fixer.findMissingAtoms()\n",
    "fixer.addMissingAtoms()\n",
    "fixer.addMissingHydrogens(pH)\n",
    "\n",
    "#Create a cubic solvent box that's 10 A bigger than the largest dimension\n",
    "unit_cell_offset = 1\n",
    "ion_st = 0\n",
    "cell_dims = [max((pos[i] for pos in fixer.positions))-min((pos[i] for pos in fixer.positions)) for i in range(3)]\n",
    "offset = [unit.Quantity(unit_cell_offset, unit.nanometer), unit.Quantity(unit_cell_offset, unit.nanometer),\n",
    "              unit.Quantity(unit_cell_offset, unit.nanometer)]\n",
    "dims = [x+y for x, y in zip(cell_dims, offset)]\n",
    "fixer.addSolvent([x.value_in_unit(unit.nanometer) for x in dims], positiveIon='Na+', negativeIon='Cl-', ionicStrength=ion_st*unit.molar)\n",
    "PDBFile.writeFile(fixer.topology, fixer.positions, open(pdb + '_processed.pdb', 'w'))\n"
   ]
  },
  {
   "cell_type": "markdown",
   "id": "f948d131-290c-4e4a-a3be-8bc48b0cda48",
   "metadata": {},
   "source": [
    "Define simulation parameters"
   ]
  },
  {
   "cell_type": "code",
   "execution_count": 10,
   "id": "2024d9f6-1411-414a-8a92-ff2632588dcf",
   "metadata": {},
   "outputs": [],
   "source": [
    "eq_steps = 10000\n",
    "prod_steps = 300000\n",
    "barostatInterval = 200\n",
    "pressure = 1*atmospheres\n",
    "temperature = 295*kelvin\n",
    "friction = 1/picosecond\n",
    "timestep = 0.002*picoseconds\n",
    "nonbonded_cutoff = 1*nanometer\n",
    "nonbonded_method = PME\n",
    "constraints = HBonds"
   ]
  },
  {
   "cell_type": "code",
   "execution_count": 11,
   "id": "a2425fc4-40b2-44fa-bdc0-f308c4e0b675",
   "metadata": {},
   "outputs": [],
   "source": [
    "pdb = PDBFile('1QLQ_processed.pdb')\n",
    "forcefield = ForceField('amber14-all.xml', 'amber14/tip3p.xml')\n",
    "system = forcefield.createSystem(pdb.topology, nonbondedMethod = PME,\n",
    "                                 nonbondedCutoff = 1*nanometer, constraints = HBonds)\n",
    "integrator = LangevinMiddleIntegrator(T_crys, friction, timestep)\n"
   ]
  },
  {
   "cell_type": "code",
   "execution_count": 12,
   "id": "f8c19ffb-1515-4af1-8a9d-226186ccd9ce",
   "metadata": {},
   "outputs": [],
   "source": [
    "simulation = Simulation(pdb.topology, system, integrator)\n",
    "simulation.context.setPositions(pdb.positions)"
   ]
  },
  {
   "cell_type": "code",
   "execution_count": null,
   "id": "e8506c7a-3a3a-4ed2-b5d7-638c5c1face5",
   "metadata": {},
   "outputs": [],
   "source": [
    "simulation.minimizeEnergy()\n",
    "positions = simulation.context.getState(getPositions=True).getPositions()\n",
    "#simulation.reporters.append(PDBReporter('1QLQ_processed.pdb', 10000))\n",
    "simulation.reporters.append(StateDataReporter(stdout, 1000, step=True,\n",
    "        potentialEnergy=True, temperature=True))\n",
    "simulation.reporters.append(StateDataReporter('./1QLQ_ProdRun.log', 10000, step=True,\n",
    "                                              potentialEnergy=True, temperature=True,  progress=True,\n",
    "                                              remainingTime=True, speed=True, totalSteps=prod_steps,\n",
    "                                              separator='\\t'))\n",
    "simulation.reporters.append(app.DCDReporter('1QLQ_trajectory.dcd', 5000))\n",
    "simulation.step(30000)\n",
    "positions = simulation.context.getState(getPositions=True).getPositions()\n",
    "PDBFile.writeFile(simulation.topology, positions, open('1QLQ_final_positions.pdb', 'w'))"
   ]
  },
  {
   "cell_type": "markdown",
   "id": "b5f1b7ce-566f-4cee-8d51-5d74179755a9",
   "metadata": {},
   "source": [
    "<a id = 'smp'></a>\n",
    "### Single Molecule Pulling"
   ]
  },
  {
   "cell_type": "code",
   "execution_count": 13,
   "id": "6aa2358d-8d34-4e85-8b46-c45a8017d889",
   "metadata": {},
   "outputs": [
    {
     "data": {
      "text/plain": [
       "2"
      ]
     },
     "execution_count": 13,
     "metadata": {},
     "output_type": "execute_result"
    }
   ],
   "source": [
    "pull = CustomExternalForce('-fx*x-fy*y-fz*z')\n",
    "system.addForce(pull)\n",
    "pull.addPerParticleParameter('fx')\n",
    "pull.addPerParticleParameter('fy')\n",
    "pull.addPerParticleParameter('fz')"
   ]
  },
  {
   "cell_type": "code",
   "execution_count": 14,
   "id": "fc061611-16f0-48f7-93b0-362acb3eb9fb",
   "metadata": {},
   "outputs": [
    {
     "name": "stdout",
     "output_type": "stream",
     "text": [
      "<Atom 0 (N) of chain 0 residue 0 (ARG)>\n"
     ]
    }
   ],
   "source": [
    "# Make sure that we have the right chain to pull\n",
    "for ind, chain in enumerate(pdb.topology.chains()):\n",
    "    if ind == 0:\n",
    "        print(next(chain.atoms()))"
   ]
  },
  {
   "cell_type": "code",
   "execution_count": 15,
   "id": "eefabab6-26c4-44ca-b2e1-8d57fe4e2d0d",
   "metadata": {},
   "outputs": [],
   "source": [
    "res0 = next(pdb.topology.residues())\n",
    "chain0 = next(pdb.topology.chains())\n",
    "*_, last_at = chain0.atoms()\n",
    "*_, last_res = chain0.residues()\n",
    "res0_atoms = [x.index for x in res0.atoms()]\n",
    "lastres_atoms =  [x.index for x in last_res.atoms()]"
   ]
  },
  {
   "cell_type": "code",
   "execution_count": 16,
   "id": "ebd5875c-2ec3-496f-9cb0-ca37eabc8aab",
   "metadata": {},
   "outputs": [
    {
     "name": "stdout",
     "output_type": "stream",
     "text": [
      "[0, 1, 2, 3, 4, 5, 6, 7, 8, 9, 10, 11, 12, 13, 14, 15, 16, 17, 18, 19, 20, 21, 22, 23, 24, 25]\n",
      "[877, 878, 879, 880, 881, 882, 883, 884, 885, 886, 887]\n"
     ]
    }
   ],
   "source": [
    "print(res0_atoms)\n",
    "print(lastres_atoms)"
   ]
  },
  {
   "cell_type": "code",
   "execution_count": 17,
   "id": "ee2731fd-a115-41f8-a1cb-c77137c5c246",
   "metadata": {},
   "outputs": [],
   "source": [
    "for x in res0_atoms:\n",
    "    pull.addParticle(x,(-100, 0, 0)*kilojoules_per_mole/nanometer)\n",
    "for x in lastres_atoms:\n",
    "    pull.addParticle(x, (100, 0, 0)*kilojoules_per_mole/nanometer)"
   ]
  },
  {
   "cell_type": "code",
   "execution_count": null,
   "id": "7f8a6606-e14e-4289-bd38-e61cf354f9a3",
   "metadata": {},
   "outputs": [],
   "source": [
    "integrator = LangevinMiddleIntegrator(300*kelvin, 1/picosecond, 0.004*picoseconds)\n",
    "simulation = Simulation(pdb.topology, system, integrator)\n",
    "simulation.context.setPositions(pdb.positions)\n",
    "simulation.minimizeEnergy()"
   ]
  },
  {
   "cell_type": "code",
   "execution_count": null,
   "id": "f253872e-031f-476e-91f8-382b5129e149",
   "metadata": {},
   "outputs": [],
   "source": [
    "simulation.reporters.append(PDBReporter('1QLQ_pulling.pdb', 2000))\n",
    "simulation.reporters.append(StateDataReporter(stdout, 2000, step=True,\n",
    "        potentialEnergy=True, temperature=True))"
   ]
  },
  {
   "cell_type": "code",
   "execution_count": null,
   "id": "66cf5752-8a24-42c8-aa32-81efb5c7f282",
   "metadata": {},
   "outputs": [],
   "source": [
    "simulation.step(20000)"
   ]
  }
 ],
 "metadata": {
  "kernelspec": {
   "display_name": "MDClass",
   "language": "python",
   "name": "mdclass"
  },
  "language_info": {
   "codemirror_mode": {
    "name": "ipython",
    "version": 3
   },
   "file_extension": ".py",
   "mimetype": "text/x-python",
   "name": "python",
   "nbconvert_exporter": "python",
   "pygments_lexer": "ipython3",
   "version": "3.10.9"
  }
 },
 "nbformat": 4,
 "nbformat_minor": 5
}
